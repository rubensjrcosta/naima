{
 "cells": [
  {
   "cell_type": "code",
   "execution_count": null,
   "id": "52b5a374",
   "metadata": {},
   "outputs": [],
   "source": [
    "import warnings\n",
    "warnings.simplefilter(\"ignore\", UserWarning)\n",
    "\n",
    "import os\n",
    "import sys\n",
    "import importlib\n",
    "path_my_modules = \"/home/born-again/Documents/GitHub/my_modules\"\n",
    "module_path = os.path.abspath(f'{path_my_modules}/config')\n",
    "if module_path not in sys.path:\n",
    "    sys.path.append(module_path)\n",
    "\n",
    "import cfg\n",
    "importlib.reload(cfg)\n",
    "\n",
    "module_path = os.path.abspath(f'{path_my_modules}/{cfg.dir_utilities}')\n",
    "if module_path not in sys.path:\n",
    "    sys.path.append(module_path)\n",
    "\n",
    "import utilities as utl\n",
    "importlib.reload(utl)\n",
    "\n",
    "module_path = os.path.abspath(f'{path_my_modules}/{cfg.dir_plot_style}')\n",
    "if module_path not in sys.path:\n",
    "    print(sys.path.append(module_path))\n",
    "    sys.path.append(module_path)\n",
    "\n",
    "import plotter\n",
    "importlib.reload(plotter)\n",
    "\n",
    "module_path = os.path.abspath(f'{path_my_modules}/{cfg.dir_spectral_models}')\n",
    "if module_path not in sys.path:\n",
    "    sys.path.append(module_path)\n",
    "\n",
    "import spectral_models as spec\n",
    "importlib.reload(spec)\n",
    "\n",
    "module_path = os.path.abspath(f'{path_my_modules}/{cfg.dir_lhaaso_analysis}')\n",
    "if module_path not in sys.path:\n",
    "    print(sys.path.append(module_path))\n",
    "    sys.path.append(module_path)\n",
    "\n",
    "import lhaaso_analysis as lhaaso\n",
    "importlib.reload(lhaaso)\n",
    "\n",
    "module_path = os.path.abspath(f'{path_my_modules}/{cfg.dir_gammapy_catalogs}')\n",
    "if module_path not in sys.path:\n",
    "    print(sys.path.append(module_path))\n",
    "    sys.path.append(module_path)\n",
    "\n",
    "import gammapy_catalogs as gammapy_cat\n",
    "importlib.reload(gammapy_cat)\n",
    "\n",
    "module_path = os.path.abspath(f'{path_my_modules}/{cfg.dir_cta_simulation}')\n",
    "if module_path not in sys.path:\n",
    "    print(sys.path.append(module_path))\n",
    "    sys.path.append(module_path)\n",
    "\n",
    "import cta_simulation as cta\n",
    "importlib.reload(cta)\n",
    "\n",
    "%matplotlib inline\n",
    "import matplotlib.pyplot as plt # A collection of command style functions\n",
    "\n",
    "\n",
    "# path_my_plot_style = f\"{path_my_modules}/{cfg.dir_plot_style}/my_plot_style.txt\" \n",
    "# plt.style.use(path_my_plot_style)"
   ]
  },
  {
   "cell_type": "code",
   "execution_count": null,
   "id": "fdaca9fe",
   "metadata": {},
   "outputs": [],
   "source": [
    "from astropy import units as u\n",
    "from gammapy.datasets import Datasets\n",
    "from gammapy.modeling import Fit\n",
    "from gammapy.modeling.models import Models, NaimaSpectralModel, SkyModel\n",
    "import naima\n",
    "from astropy.io import ascii"
   ]
  },
  {
   "cell_type": "code",
   "execution_count": null,
   "id": "33095c08",
   "metadata": {},
   "outputs": [],
   "source": [
    "datasets_name = 'CTA-PSR_J1826-1334'\n",
    "path_file = f\"/home/born-again/Documents/GitHub/JCAP_095P_1123/my_notebooks/pulsars/analysis/datasets/LHAASO_J1825-1326_roi_1.0deg_e_ref_min_100.0GeV/HESS_J1825-137-CTA-PSR_J1826-1334_50h\"\n",
    "datasets_joint =Datasets.read(filename=f\"{path_file}/datasets{cfg.format_yaml}\", filename_models=f\"{path_file}/models{cfg.format_yaml}\")\n",
    "models_joint = Models()\n",
    "models_joint.extend(datasets_joint.models)\n",
    "dict_leg_style = utl.load_dictionary(name=cfg.dict_leg_style, path_file=path_file)\n",
    "dict_sep = utl.load_dictionary(name=cfg.dict_separation, path_file=path_file)"
   ]
  },
  {
   "cell_type": "code",
   "execution_count": null,
   "id": "bbf8fc80",
   "metadata": {},
   "outputs": [],
   "source": [
    "print(datasets_joint[-1])"
   ]
  },
  {
   "cell_type": "code",
   "execution_count": null,
   "id": "6b409f66",
   "metadata": {},
   "outputs": [],
   "source": [
    "datasets = Datasets(datasets_joint[-1].copy())"
   ]
  },
  {
   "cell_type": "code",
   "execution_count": null,
   "id": "1900edbf",
   "metadata": {},
   "outputs": [],
   "source": [
    "data = datasets[0].data.to_table(sed_type=\"dnde\")"
   ]
  },
  {
   "cell_type": "code",
   "execution_count": null,
   "id": "955f8de8",
   "metadata": {},
   "outputs": [],
   "source": [
    "data"
   ]
  },
  {
   "cell_type": "markdown",
   "id": "de0ae0b4",
   "metadata": {},
   "source": [
    "https://naima.readthedocs.io/en/latest/dataformat.html#dataformat"
   ]
  },
  {
   "cell_type": "code",
   "execution_count": null,
   "id": "673ac1f6",
   "metadata": {},
   "outputs": [],
   "source": [
    "data.rename_column('e_ref', 'energy')\n",
    "data.rename_column('e_min', 'energy_lo')\n",
    "data.rename_column('e_max', 'energy_hi')\n",
    "data.rename_column('dnde', 'flux')\n",
    "data.rename_column('dnde_err', 'flux_error')\n",
    "data.rename_column('dnde_ul', 'flux_ul')\n",
    "data.rename_column('is_ul', 'ul')\n"
   ]
  },
  {
   "cell_type": "code",
   "execution_count": null,
   "id": "cb25a2a1",
   "metadata": {},
   "outputs": [],
   "source": [
    "data = data[[\"energy\",\"energy_lo\",\"energy_hi\",\"flux\",\"flux_error\", \"flux_ul\", \"ul\"]]"
   ]
  },
  {
   "cell_type": "code",
   "execution_count": null,
   "id": "1abc6967",
   "metadata": {},
   "outputs": [],
   "source": [
    "data"
   ]
  },
  {
   "cell_type": "code",
   "execution_count": null,
   "id": "5cb1d8f1",
   "metadata": {},
   "outputs": [],
   "source": [
    "from naima.models import ExponentialCutoffPowerLaw, InverseCompton\n",
    "import astropy.units as u\n",
    "\n",
    "\n",
    "def model(pars, data):\n",
    "    amplitude = pars[0] / u.eV\n",
    "    alpha = pars[1]\n",
    "    e_cutoff = (10 ** pars[2]) * u.TeV\n",
    "\n",
    "    ECPL = ExponentialCutoffPowerLaw(amplitude, 10 * u.TeV, alpha, e_cutoff)\n",
    "    IC = InverseCompton(\n",
    "        ECPL,\n",
    "        seed_photon_fields=[\n",
    "            \"CMB\",\n",
    "            [\"FIR\", 26.5 * u.K, 0.415 * u.eV / u.cm ** 3],\n",
    "        ],\n",
    "    )\n",
    "\n",
    "    return IC.flux(data, distance=3.606 * u.kpc)"
   ]
  },
  {
   "cell_type": "code",
   "execution_count": null,
   "id": "9ce4646b",
   "metadata": {},
   "outputs": [],
   "source": [
    "from naima import uniform_prior\n",
    "\n",
    "\n",
    "def lnprior(pars):\n",
    "    lnprior = uniform_prior(pars[0], 0.0, np.inf) + uniform_prior(pars[1], -1, 5) + uniform_prior(pars[2], 0.0, 2)\n",
    "    return lnprior"
   ]
  },
  {
   "cell_type": "code",
   "execution_count": null,
   "id": "a20ba8e7",
   "metadata": {},
   "outputs": [],
   "source": [
    "import numpy as np\n",
    "\n",
    "p0 = np.array((1e33, 3.0, np.log10(30)))\n",
    "labels = [\"norm\", \"index\", \"log10(cutoff)\"]"
   ]
  },
  {
   "cell_type": "code",
   "execution_count": null,
   "id": "75a59c21",
   "metadata": {},
   "outputs": [],
   "source": [
    "sampler, pos = naima.run_sampler(\n",
    "    data_table=data,\n",
    "    p0=p0,\n",
    "    labels=labels,\n",
    "    model=model,\n",
    "    prior=lnprior,\n",
    "    nwalkers=128,\n",
    "    nburn=50,\n",
    "    nrun=10,\n",
    "    threads=4,\n",
    ")"
   ]
  },
  {
   "cell_type": "code",
   "execution_count": null,
   "id": "246aed3b",
   "metadata": {},
   "outputs": [],
   "source": [
    "# import naima\n",
    "# import astropy.units as u\n",
    "# import matplotlib.pyplot as plt"
   ]
  },
  {
   "cell_type": "code",
   "execution_count": null,
   "id": "ea86f816",
   "metadata": {},
   "outputs": [],
   "source": []
  },
  {
   "cell_type": "code",
   "execution_count": null,
   "id": "961d8918",
   "metadata": {},
   "outputs": [],
   "source": [
    "naima.save_diagnostic_plots(\n",
    "    datasets_name,\n",
    "    sampler,\n",
    "    blob_labels=[\n",
    "        \"Spectrum\",\n",
    "        \"Electron energy distribution\",\n",
    "        \"$W_e (E_e>1$ TeV)\",\n",
    "    ],\n",
    ")\n",
    "\n",
    "naima.save_results_table(datasets_name, sampler)"
   ]
  },
  {
   "cell_type": "code",
   "execution_count": null,
   "id": "e7bed2a9",
   "metadata": {},
   "outputs": [],
   "source": [
    " naima.plot_fit(sampler, modelidx=0, label=\"sss\", sed=True, last_step=False, n_samples=100, confs=[3,1], ML_info=False, figure=None, plotdata=None, plotresiduals=None, e_unit=u.TeV,e_range=[100*u.GeV, 79*u.TeV], e_npoints=100, threads=None, xlabel=None, ylabel=None, ulim_opts={}, errorbar_opts={})"
   ]
  },
  {
   "cell_type": "code",
   "execution_count": null,
   "id": "492594bf",
   "metadata": {},
   "outputs": [],
   "source": []
  }
 ],
 "metadata": {
  "kernelspec": {
   "display_name": "Python 3 (ipykernel)",
   "language": "python",
   "name": "python3"
  },
  "language_info": {
   "codemirror_mode": {
    "name": "ipython",
    "version": 3
   },
   "file_extension": ".py",
   "mimetype": "text/x-python",
   "name": "python",
   "nbconvert_exporter": "python",
   "pygments_lexer": "ipython3",
   "version": "3.9.18"
  }
 },
 "nbformat": 4,
 "nbformat_minor": 5
}
