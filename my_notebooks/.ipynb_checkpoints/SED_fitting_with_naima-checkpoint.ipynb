{
 "cells": [
  {
   "cell_type": "markdown",
   "id": "077061fc",
   "metadata": {},
   "source": [
    "Notebook to carry out a fit of an IC model to the HESS spectrum of \n",
    "[RX J1713.7-3946](http://tevcat.uchicago.edu/?mode=1;id=84) with the naima wrapper around [emcee](http://dfm.io/emcee). This tutorial will follow loosely the tutorial found on the [naima documentation](http://naima.readthedocs.org/en/latest/tutorial.html).\n",
    "\n",
    "The first step is to load the data, which we can find in the same directory as this notebook. The data format required by naima for the data files can be found in the documentation.\n"
   ]
  },
  {
   "cell_type": "markdown",
   "id": "3160ab2e",
   "metadata": {},
   "source": [
    "The we define the model to be fit. The model function must take a tuple of free parameters as first argument and a data table as second. It must return the model flux at the energies given by ```python\n",
    "data['energy']``` in first place, and any extra objects will be saved with the MCMC chain.\n",
    "\n",
    "emcee does not accept astropy Quantities as parameters, so we have to give them units before setting the attributes of the particle distribution function.\n",
    "\n",
    "Here we define an IC model with an Exponential Cutoff Power-Law with the amplitude, index, and cutoff energy as free parameters. Because the amplitude and cutoff energy may be considered to have a uniform prior in log-space, we sample their decimal logarithms (we could also use a log-uniform prior). We also place a uniform prior on the particle index with limits between -1 and 5.\n"
   ]
  },
  {
   "cell_type": "code",
   "execution_count": 2,
   "id": "cf5a5e03",
   "metadata": {},
   "outputs": [
    {
     "data": {
      "image/png": "[encoded data removed]",
      "text/plain": [
       "<Figure size 640x480 with 1 Axes>"
      ]
     },
     "metadata": {},
     "output_type": "display_data"
    }
   ],
   "source": [
    "\n",
    "import naima\n",
    "import numpy as np\n",
    "from astropy.io import ascii\n",
    "import astropy.units as u\n",
    "%matplotlib inline\n",
    "import matplotlib.pyplot as plt\n",
    "\n",
    "hess_spectrum = ascii.read('RXJ1713_HESS_2007.dat', format='ipac')\n",
    "fig = naima.plot_data(hess_spectrum)\n",
    "\n"
   ]
  },
  {
   "cell_type": "code",
   "execution_count": 3,
   "id": "f363508f",
   "metadata": {},
   "outputs": [],
   "source": [
    "from naima.models import ExponentialCutoffPowerLaw, InverseCompton\n",
    "from naima import uniform_prior\n",
    "\n",
    "ECPL = ExponentialCutoffPowerLaw(1e36/u.eV, 5*u.TeV, 2.7, 50*u.TeV)\n",
    "IC = InverseCompton(ECPL, seed_photon_fields=['CMB', ['FIR', 30*u.K, 0.4*u.eV/u.cm**3]])\n",
    "\n",
    "# define labels and initial vector for the parameters\n",
    "labels = ['log10(norm)', 'index', 'log10(cutoff)']\n",
    "p0 = np.array((34, 2.7, np.log10(30)))\n",
    "\n",
    "# define the model function\n",
    "def model(pars, data):\n",
    "    ECPL.amplitude = (10**pars[0]) / u.eV\n",
    "    ECPL.alpha = pars[1]\n",
    "    ECPL.e_cutoff = (10**pars[2]) * u.TeV\n",
    "\n",
    "    return IC.flux(data['energy'], distance=2.0*u.kpc), IC.compute_We(Eemin=1*u.TeV)\n",
    "\n",
    "from naima import uniform_prior\n",
    "\n",
    "def lnprior(pars):\n",
    "    lnprior = uniform_prior(pars[1], -1, 5)\n",
    "    return lnprior\n",
    "\n"
   ]
  },
  {
   "cell_type": "markdown",
   "id": "7ea061ef",
   "metadata": {},
   "source": [
    "We take the data, model, prior, parameter vector, and labels and call the main fitting procedure: naima.run_sampler. This function is a wrapper around emcee, and the details of the MCMC run can be configured through its arguments:\n",
    "\n",
    "```python nwalkers```: number of emcee walkers.\n",
    "\n",
    "```python nburn```: number of steps to take for the burn-in period. These steps will be discarded in the final results. \n",
    "```python nrun```: number of steps to take and save to the sampler chain.\n",
    "\n",
    "```python prefit```: whether to do a Nelder-Mead fit before starting the MCMC run (reduces the burn-in steps required).\n",
    "\n",
    "```python interactive```:  whether to launch an interactive model fitter before starting the run to set the initial vector. \n",
    "   This will only work in matplotlib is using a GUI backend (qt4, qt5, gtkagg, tkagg, etc.). The final parameters when you close the window will be used as starting point for the run.\n",
    "    threads: How many different threads (CPU cores) to use when computing the likelihood.\n",
    "\n"
   ]
  },
  {
   "cell_type": "code",
   "execution_count": null,
   "id": "761b49e3",
   "metadata": {},
   "outputs": [
    {
     "name": "stdout",
     "output_type": "stream",
     "text": [
      "INFO: Finding Maximum Likelihood parameters through Nelder-Mead fitting... [naima.core]\n",
      "INFO:    Initial parameters: [33.70675951  2.7         1.47712125] [naima.core]\n",
      "INFO:    Initial lnprob(p0): -79.129 [naima.core]\n",
      "INFO:    New ML parameters : [33.52921128  2.45802763  1.58501849] [naima.core]\n",
      "INFO:    Maximum lnprob(p0): -18.589 [naima.core]\n",
      "Burning in the 32 walkers with 50 steps...\n",
      "\n",
      "Progress of the run: 0 percent (0 of 50 steps)\n",
      "                           --log10(norm)-- -----index----- -log10(cutoff)-\n",
      "  Last ensemble median :      33.5            2.46            1.59      \n",
      "  Last ensemble std    :      0.153          0.0111          0.00562    \n",
      "  Last ensemble lnprob :  avg: -169.128, max: -18.520\n",
      "\n",
      "Progress of the run: 10 percent (5 of 50 steps)\n",
      "                           --log10(norm)-- -----index----- -log10(cutoff)-\n",
      "  Last ensemble median :      33.5            2.46            1.59      \n",
      "  Last ensemble std    :     0.0787          0.0145          0.00518    \n",
      "  Last ensemble lnprob :  avg: -66.811, max: -18.534\n",
      "\n",
      "Progress of the run: 20 percent (10 of 50 steps)\n",
      "                           --log10(norm)-- -----index----- -log10(cutoff)-\n",
      "  Last ensemble median :      33.5            2.46            1.59      \n",
      "  Last ensemble std    :     0.0558          0.0176          0.00645    \n",
      "  Last ensemble lnprob :  avg: -44.111, max: -18.534\n",
      "\n",
      "Progress of the run: 30 percent (15 of 50 steps)\n",
      "                           --log10(norm)-- -----index----- -log10(cutoff)-\n",
      "  Last ensemble median :      33.5            2.46            1.59      \n",
      "  Last ensemble std    :     0.0302           0.018          0.0126     \n",
      "  Last ensemble lnprob :  avg: -25.111, max: -18.626\n",
      "\n",
      "Progress of the run: 40 percent (20 of 50 steps)\n",
      "                           --log10(norm)-- -----index----- -log10(cutoff)-\n",
      "  Last ensemble median :      33.5            2.46            1.58      \n",
      "  Last ensemble std    :     0.0154          0.0336           0.021     \n",
      "  Last ensemble lnprob :  avg: -20.089, max: -18.542\n",
      "\n",
      "Progress of the run: 50 percent (25 of 50 steps)\n",
      "                           --log10(norm)-- -----index----- -log10(cutoff)-\n",
      "  Last ensemble median :      33.5            2.46            1.58      \n",
      "  Last ensemble std    :     0.0164          0.0449           0.038     \n",
      "  Last ensemble lnprob :  avg: -19.993, max: -18.465\n",
      "\n",
      "Progress of the run: 60 percent (30 of 50 steps)\n",
      "                           --log10(norm)-- -----index----- -log10(cutoff)-\n",
      "  Last ensemble median :      33.5            2.47            1.59      \n",
      "  Last ensemble std    :     0.0179          0.0734          0.0496     \n",
      "  Last ensemble lnprob :  avg: -19.900, max: -18.545\n",
      "\n",
      "Progress of the run: 70 percent (35 of 50 steps)\n",
      "                           --log10(norm)-- -----index----- -log10(cutoff)-\n",
      "  Last ensemble median :      33.5            2.48            1.61      \n",
      "  Last ensemble std    :     0.0181          0.0735          0.0612     \n",
      "  Last ensemble lnprob :  avg: -19.709, max: -18.208\n",
      "\n",
      "Progress of the run: 80 percent (40 of 50 steps)\n",
      "                           --log10(norm)-- -----index----- -log10(cutoff)-\n",
      "  Last ensemble median :      33.5            2.48            1.59      \n",
      "  Last ensemble std    :     0.0198           0.105          0.0836     \n",
      "  Last ensemble lnprob :  avg: -20.070, max: -18.254\n",
      "\n",
      "Progress of the run: 90 percent (45 of 50 steps)\n",
      "                           --log10(norm)-- -----index----- -log10(cutoff)-\n",
      "  Last ensemble median :      33.5            2.48            1.61      \n",
      "  Last ensemble std    :     0.0199          0.0971          0.0801     \n",
      "  Last ensemble lnprob :  avg: -19.729, max: -18.192\n",
      "\n",
      "Walker burn in finished, running 100 steps...\n",
      "\n",
      "Progress of the run: 0 percent (0 of 100 steps)\n",
      "                           --log10(norm)-- -----index----- -log10(cutoff)-\n",
      "  Last ensemble median :      33.5            2.49            1.62      \n",
      "  Last ensemble std    :     0.0172          0.0925          0.0888     \n",
      "  Last ensemble lnprob :  avg: -19.645, max: -18.170\n",
      "\n",
      "Progress of the run: 5 percent (5 of 100 steps)\n",
      "                           --log10(norm)-- -----index----- -log10(cutoff)-\n",
      "  Last ensemble median :      33.5            2.49            1.62      \n",
      "  Last ensemble std    :     0.0153           0.107           0.112     \n",
      "  Last ensemble lnprob :  avg: -19.687, max: -18.208\n",
      "\n",
      "Progress of the run: 10 percent (10 of 100 steps)\n",
      "                           --log10(norm)-- -----index----- -log10(cutoff)-\n",
      "  Last ensemble median :      33.5            2.48            1.61      \n",
      "  Last ensemble std    :     0.0153          0.0966           0.111     \n",
      "  Last ensemble lnprob :  avg: -19.684, max: -18.377\n",
      "\n",
      "Progress of the run: 15 percent (15 of 100 steps)\n",
      "                           --log10(norm)-- -----index----- -log10(cutoff)-\n",
      "  Last ensemble median :      33.5            2.48            1.61      \n",
      "  Last ensemble std    :     0.0165           0.099           0.12      \n",
      "  Last ensemble lnprob :  avg: -19.572, max: -18.157\n",
      "\n",
      "Progress of the run: 20 percent (20 of 100 steps)\n",
      "                           --log10(norm)-- -----index----- -log10(cutoff)-\n",
      "  Last ensemble median :      33.5             2.5            1.64      \n",
      "  Last ensemble std    :     0.0169           0.097           0.11      \n",
      "  Last ensemble lnprob :  avg: -19.635, max: -18.325\n",
      "\n",
      "Progress of the run: 25 percent (25 of 100 steps)\n",
      "                           --log10(norm)-- -----index----- -log10(cutoff)-\n",
      "  Last ensemble median :      33.5            2.51            1.64      \n",
      "  Last ensemble std    :     0.0189          0.0979           0.116     \n",
      "  Last ensemble lnprob :  avg: -19.653, max: -18.095\n",
      "\n",
      "Progress of the run: 30 percent (30 of 100 steps)\n",
      "                           --log10(norm)-- -----index----- -log10(cutoff)-\n",
      "  Last ensemble median :      33.5            2.51            1.64      \n",
      "  Last ensemble std    :     0.0196          0.0906           0.115     \n",
      "  Last ensemble lnprob :  avg: -19.694, max: -18.055\n",
      "\n",
      "Progress of the run: 35 percent (35 of 100 steps)\n",
      "                           --log10(norm)-- -----index----- -log10(cutoff)-\n",
      "  Last ensemble median :      33.5            2.52            1.66      \n",
      "  Last ensemble std    :      0.018          0.0872          0.0999     \n",
      "  Last ensemble lnprob :  avg: -19.507, max: -18.154\n",
      "\n",
      "Progress of the run: 40 percent (40 of 100 steps)\n",
      "                           --log10(norm)-- -----index----- -log10(cutoff)-\n",
      "  Last ensemble median :      33.5            2.52            1.65      \n",
      "  Last ensemble std    :     0.0182           0.106           0.115     \n",
      "  Last ensemble lnprob :  avg: -19.385, max: -18.114\n",
      "\n",
      "Progress of the run: 45 percent (45 of 100 steps)\n",
      "                           --log10(norm)-- -----index----- -log10(cutoff)-\n",
      "  Last ensemble median :      33.5            2.53            1.66      \n",
      "  Last ensemble std    :     0.0155          0.0992           0.128     \n",
      "  Last ensemble lnprob :  avg: -19.420, max: -18.142\n",
      "\n",
      "Progress of the run: 50 percent (50 of 100 steps)\n",
      "                           --log10(norm)-- -----index----- -log10(cutoff)-\n",
      "  Last ensemble median :      33.5            2.55            1.67      \n",
      "  Last ensemble std    :      0.017           0.101           0.124     \n",
      "  Last ensemble lnprob :  avg: -19.427, max: -18.207\n",
      "\n",
      "Progress of the run: 55 percent (55 of 100 steps)\n",
      "                           --log10(norm)-- -----index----- -log10(cutoff)-\n",
      "  Last ensemble median :      33.5            2.56            1.69      \n",
      "  Last ensemble std    :     0.0149           0.118           0.141     \n",
      "  Last ensemble lnprob :  avg: -19.475, max: -18.065\n",
      "\n",
      "Progress of the run: 60 percent (60 of 100 steps)\n",
      "                           --log10(norm)-- -----index----- -log10(cutoff)-\n",
      "  Last ensemble median :      33.5            2.56             1.7      \n",
      "  Last ensemble std    :     0.0166           0.118           0.131     \n",
      "  Last ensemble lnprob :  avg: -19.430, max: -18.142\n",
      "\n",
      "Progress of the run: 65 percent (65 of 100 steps)\n",
      "                           --log10(norm)-- -----index----- -log10(cutoff)-\n",
      "  Last ensemble median :      33.5            2.56            1.68      \n",
      "  Last ensemble std    :     0.0186           0.114           0.132     \n",
      "  Last ensemble lnprob :  avg: -19.582, max: -18.034\n"
     ]
    },
    {
     "name": "stdout",
     "output_type": "stream",
     "text": [
      "\n",
      "Progress of the run: 70 percent (70 of 100 steps)\n",
      "                           --log10(norm)-- -----index----- -log10(cutoff)-\n",
      "  Last ensemble median :      33.5            2.55            1.67      \n",
      "  Last ensemble std    :     0.0149          0.0904          0.0936     \n",
      "  Last ensemble lnprob :  avg: -19.175, max: -18.190\n"
     ]
    }
   ],
   "source": [
    "sampler, pos = naima.run_sampler(data_table=hess_spectrum, model=model, prior=lnprior, p0=p0, labels=labels,\n",
    "                                nwalkers=32, nburn=50, nrun=100, prefit=True, threads=4)\n"
   ]
  },
  {
   "cell_type": "code",
   "execution_count": null,
   "id": "8bce81ac",
   "metadata": {},
   "outputs": [],
   "source": [
    "# inspect the chains stored in the sampler for the three free parameters\n",
    "f = naima.plot_chain(sampler, 0)\n",
    "f = naima.plot_chain(sampler, 1)\n",
    "f = naima.plot_chain(sampler, 2)"
   ]
  },
  {
   "cell_type": "code",
   "execution_count": null,
   "id": "6ad1258c",
   "metadata": {},
   "outputs": [],
   "source": []
  },
  {
   "cell_type": "code",
   "execution_count": null,
   "id": "e1030456",
   "metadata": {},
   "outputs": [],
   "source": [
    "# make a corner plot of the parameters to show covariances\n",
    "f = naima.plot_corner(sampler)"
   ]
  },
  {
   "cell_type": "code",
   "execution_count": null,
   "id": "81832636",
   "metadata": {},
   "outputs": [],
   "source": [
    "# Show the fit\n",
    "f = naima.plot_fit(sampler)\n",
    "f.axes[0].set_ylim(bottom=1e-13)"
   ]
  },
  {
   "cell_type": "markdown",
   "id": "192120ab",
   "metadata": {},
   "source": [
    "\n",
    "Simultaneous fitting of two radiative components: Synchrotron and IC.\n",
    "\n",
    "Use the Suzaku XIS spectrum of RX J1713 to do a simultaneous fit of the synchrotron and inverse Compton spectra and derive an estimate of the magnetic field strength under the assumption of a leptonic scenario.\n"
   ]
  },
  {
   "cell_type": "code",
   "execution_count": null,
   "id": "3731b5b2",
   "metadata": {},
   "outputs": [],
   "source": [
    "suzaku_spectrum = ascii.read('RXJ1713_Suzaku-XIS.dat')\n",
    "f=naima.plot_data(suzaku_spectrum)"
   ]
  },
  {
   "cell_type": "markdown",
   "id": "cd0951e2",
   "metadata": {},
   "source": [
    "Note that in all naima functions (including run_sampler) you can provide a list of spectra, so you can consider both the HESS and Suzaku spectra:"
   ]
  },
  {
   "cell_type": "code",
   "execution_count": null,
   "id": "85d28c6f",
   "metadata": {},
   "outputs": [],
   "source": [
    "f=naima.plot_data([suzaku_spectrum, hess_spectrum], sed=True)"
   ]
  },
  {
   "cell_type": "markdown",
   "id": "23e43306",
   "metadata": {},
   "source": [
    "Below is the model, labels, parameters and prior defined above for the IC-only fit. Modify it as needed and feed it to naima.run_sampler to obtain an estimate of the magnetic field strength."
   ]
  },
  {
   "cell_type": "code",
   "execution_count": null,
   "id": "36bf1dcd",
   "metadata": {},
   "outputs": [],
   "source": [
    "#from naima.models import ExponentialCutoffPowerLaw, InverseCompton\n",
    "#from naima import uniform_prior\n",
    "\n",
    "#ECPL = ExponentialCutoffPowerLaw(1e36/u.eV, 10*u.TeV, 2.7, 50*u.TeV)\n",
    "#IC = InverseCompton(ECPL, seed_photon_fields=['CMB', ['FIR', 30*u.K, 0.4*u.eV/u.cm**3]])\n",
    "\n",
    "## define labels and initial vector for the parameters\n",
    "#labels = ['log10(norm)', 'index', 'log10(cutoff)']\n",
    "#p0 = np.array((34, 2.7, np.log10(30)))\n",
    "\n",
    "## define the model function\n",
    "#def model(pars, data):\n",
    "#    ECPL.amplitude = (10**pars[0]) / u.eV\n",
    "#    ECPL.alpha = pars[1]\n",
    "#    ECPL.e_cutoff = (10**pars[2]) * u.TeV\n",
    "\n",
    "#    return IC.flux(data['energy'], distance=2.0*u.kpc), IC.compute_We(Eemin=1*u.TeV)\n",
    "\n",
    "#from naima import uniform_prior\n",
    "\n",
    "#def lnprior(pars):\n",
    "#    lnprior = uniform_prior(pars[1], -1, 5)\n",
    "#    return lnprior"
   ]
  },
  {
   "cell_type": "code",
   "execution_count": null,
   "id": "5b313d01",
   "metadata": {},
   "outputs": [],
   "source": []
  },
  {
   "cell_type": "code",
   "execution_count": null,
   "id": "26db44fc",
   "metadata": {},
   "outputs": [],
   "source": []
  }
 ],
 "metadata": {
  "kernelspec": {
   "display_name": "Python 3 (ipykernel)",
   "language": "python",
   "name": "python3"
  },
  "language_info": {
   "codemirror_mode": {
    "name": "ipython",
    "version": 3
   },
   "file_extension": ".py",
   "mimetype": "text/x-python",
   "name": "python",
   "nbconvert_exporter": "python",
   "pygments_lexer": "ipython3",
   "version": "3.9.18"
  }
 },
 "nbformat": 4,
 "nbformat_minor": 5
}
