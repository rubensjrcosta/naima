{
 "cells": [
  {
   "cell_type": "code",
   "execution_count": null,
   "id": "a5a42e07",
   "metadata": {},
   "outputs": [],
   "source": [
    "from astropy import units as u\n",
    "from gammapy.datasets import Datasets\n",
    "from gammapy.modeling.models import Models\n",
    "from gammapy.modeling import Fit\n",
    "\n",
    "import os\n",
    "import sys\n",
    "import importlib\n",
    "path_my_modules = \"/home/born-again/Documents/GitHub/my_modules\"\n",
    "module_path = os.path.abspath(f'{path_my_modules}/config')\n",
    "if module_path not in sys.path:\n",
    "    sys.path.append(module_path)\n",
    "\n",
    "import cfg\n",
    "importlib.reload(cfg)\n",
    "\n",
    "module_path = os.path.abspath(f'{path_my_modules}/{cfg.dir_utilities}')\n",
    "if module_path not in sys.path:\n",
    "    sys.path.append(module_path)\n",
    "\n",
    "import utilities as utl\n",
    "importlib.reload(utl)\n",
    "\n",
    "module_path = os.path.abspath(f'{path_my_modules}/{cfg.dir_plot_style}')\n",
    "if module_path not in sys.path:\n",
    "    print(sys.path.append(module_path))\n",
    "    sys.path.append(module_path)\n",
    "\n",
    "import plotter\n",
    "importlib.reload(plotter)\n",
    "\n",
    "module_path = os.path.abspath(f'{path_my_modules}/{cfg.dir_spectral_models}')\n",
    "if module_path not in sys.path:\n",
    "    sys.path.append(module_path)\n",
    "\n",
    "import spectral_models as spec\n",
    "importlib.reload(spec)\n",
    "\n",
    "module_path = os.path.abspath(f'{path_my_modules}/{cfg.dir_lhaaso_analysis}')\n",
    "if module_path not in sys.path:\n",
    "    print(sys.path.append(module_path))\n",
    "    sys.path.append(module_path)\n",
    "\n",
    "import lhaaso_analysis as lhaaso\n",
    "importlib.reload(lhaaso)\n",
    "\n",
    "module_path = os.path.abspath(f'{path_my_modules}/{cfg.dir_gammapy_catalogs}')\n",
    "if module_path not in sys.path:\n",
    "    print(sys.path.append(module_path))\n",
    "    sys.path.append(module_path)\n",
    "\n",
    "import gammapy_catalogs as gammapy_cat\n",
    "importlib.reload(gammapy_cat)\n",
    "\n",
    "module_path = os.path.abspath(f'{path_my_modules}/{cfg.dir_cta_simulation}')\n",
    "if module_path not in sys.path:\n",
    "    print(sys.path.append(module_path))\n",
    "    sys.path.append(module_path)\n",
    "\n",
    "import cta_simulation as cta\n",
    "importlib.reload(cta)\n",
    "\n",
    "%matplotlib inline\n",
    "import matplotlib.pyplot as plt # A collection of command style functions\n",
    "\n",
    "\n",
    "path_my_plot_style = f\"{path_my_modules}/{cfg.dir_plot_style}/my_plot_style.txt\" \n",
    "plt.style.use(path_my_plot_style)"
   ]
  },
  {
   "cell_type": "code",
   "execution_count": 3,
   "id": "07549699",
   "metadata": {},
   "outputs": [],
   "source": [
    "path_CTA_datasets = f\"/home/born-again/Documents/GitHub/JCAP_2023-1/my_notebooks/pulsars/analysis/datasets/\"\n",
    "\n",
    "roi_name = \"LHAASO_J1839-0545_roi_1.017deg_e_ref_min_100.0GeV\"\n",
    "datasets_name = \"HESS_J1837-069-CTA-PSR_J1837-0604_50h\""
   ]
  },
  {
   "cell_type": "code",
   "execution_count": 4,
   "id": "5fc14330",
   "metadata": {},
   "outputs": [
    {
     "name": "stderr",
     "output_type": "stream",
     "text": [
      "No reference model set for FluxMaps. Assuming point source with E^-2 spectrum.\n",
      "No reference model set for FluxMaps. Assuming point source with E^-2 spectrum.\n",
      "No reference model set for FluxMaps. Assuming point source with E^-2 spectrum.\n",
      "No reference model set for FluxMaps. Assuming point source with E^-2 spectrum.\n",
      "No reference model set for FluxMaps. Assuming point source with E^-2 spectrum.\n"
     ]
    }
   ],
   "source": [
    "path_file = f\"{path_CTA_datasets}/{roi_name}/{datasets_name}\"\n",
    "datasets_joint =Datasets.read(filename=f\"{path_file}/datasets{cfg.format_yaml}\", filename_models=f\"{path_file}/models{cfg.format_yaml}\")"
   ]
  },
  {
   "cell_type": "code",
   "execution_count": 5,
   "id": "da3e1794",
   "metadata": {},
   "outputs": [],
   "source": [
    "models_joint = Models()\n",
    "models_joint.extend(datasets_joint.models)"
   ]
  },
  {
   "cell_type": "code",
   "execution_count": null,
   "id": "0f36dc0b",
   "metadata": {},
   "outputs": [],
   "source": [
    "model =models_joint[-1]\n",
    "models = [model]\n",
    "datasets = Datasets(datasets_joint)"
   ]
  },
  {
   "cell_type": "code",
   "execution_count": 7,
   "id": "32f17620",
   "metadata": {},
   "outputs": [],
   "source": [
    "dict_leg_style = utl.load_dictionary(name=cfg.dict_leg_style, path_file=path_file)\n",
    "dict_sep = utl.load_dictionary(name=cfg.dict_separation, path_file=path_file)"
   ]
  },
  {
   "cell_type": "code",
   "execution_count": 10,
   "id": "b6774b78",
   "metadata": {},
   "outputs": [
    {
     "data": {
      "text/plain": [
       "{}"
      ]
     },
     "execution_count": 10,
     "metadata": {},
     "output_type": "execute_result"
    }
   ],
   "source": [
    "utl.load_dictionary(name=cfg.dict_separation, path_file=path_file)"
   ]
  },
  {
   "cell_type": "code",
   "execution_count": 11,
   "id": "8313d219",
   "metadata": {},
   "outputs": [
    {
     "data": {
      "text/plain": [
       "{'HESS J1837-069: gamma-cat': ('aqua', 's'),\n",
       " 'HESS J1837-069: hgps': ('fuchsia', 'o'),\n",
       " '2HWC J1837-065': ('plum', 's'),\n",
       " 'LHAASO J1839-0545': ('red', 'o'),\n",
       " 'CTA - PSR J1837-0604 (50h)': ('blue', 's')}"
      ]
     },
     "execution_count": 11,
     "metadata": {},
     "output_type": "execute_result"
    }
   ],
   "source": [
    "dict_leg_style"
   ]
  },
  {
   "cell_type": "code",
   "execution_count": null,
   "id": "3ac46e74",
   "metadata": {},
   "outputs": [],
   "source": [
    "dict_leg_style = plotter.set_leg_style(dict_leg_style, models = models)\n",
    "dict_plot_limits = dict(\n",
    "    energy_bounds = [5e-2, 2e3] * u.TeV,\n",
    "    ylim = [1e-15, 1e-9]\n",
    ")\n",
    "plotter.plot_SED(\n",
    "    name = \"model_name\", \n",
    "    dict_plot_limits=dict_plot_limits,\n",
    "    datasets=datasets, \n",
    "    models=models, \n",
    "    dict_leg_style=dict_leg_style, \n",
    ")"
   ]
  },
  {
   "cell_type": "code",
   "execution_count": null,
   "id": "d53b2b61",
   "metadata": {},
   "outputs": [],
   "source": [
    "dataset_CTA = datasets_joint[-1].copy()\n",
    "sky_model_CTA_in = model.copy(name=f\"{datasets_joint[-1].name} {model.spectral_model.tag[1]}\")\n"
   ]
  },
  {
   "cell_type": "code",
   "execution_count": null,
   "id": "0c7f41dc",
   "metadata": {},
   "outputs": [],
   "source": [
    "model = spec.sky_model_ecpl()\n",
    "datasets.models = [model]\n",
    "fit_joint = Fit()\n",
    "result_joint = fit_joint.run(datasets=datasets)\n",
    "print(result_joint)"
   ]
  },
  {
   "cell_type": "code",
   "execution_count": null,
   "id": "51cc4dad",
   "metadata": {},
   "outputs": [],
   "source": [
    "from astropy import units as u\n",
    "import matplotlib.pyplot as plt\n",
    "import naima\n",
    "from gammapy.modeling.models import Models, NaimaSpectralModel, SkyModel\n",
    "\n",
    "particle_distribution = naima.models.ExponentialCutoffPowerLaw(\n",
    "    1e30 / u.eV, 10 * u.TeV, 3.0, 30 * u.TeV\n",
    ")\n",
    "# radiative_model = naima.radiative.InverseCompton(\n",
    "#     particle_distribution,\n",
    "#     seed_photon_fields=[\"CMB\", [\"FIR\", 26.5 * u.K, 0.415 * u.eV / u.cm**3]],\n",
    "#     Eemin=100 * u.GeV,\n",
    "# )\n",
    "\n",
    "radiative_model = naima.models.PionDecay(particle_distribution)\n",
    "\n",
    "model = NaimaSpectralModel(radiative_model, distance=1.5 * u.kpc)"
   ]
  },
  {
   "cell_type": "code",
   "execution_count": null,
   "id": "cf282d43",
   "metadata": {},
   "outputs": [],
   "source": [
    "print(model.spectral_model)"
   ]
  },
  {
   "cell_type": "code",
   "execution_count": null,
   "id": "458faf79",
   "metadata": {},
   "outputs": [],
   "source": [
    "sky_model_naima = SkyModel(\n",
    "    spectral_model=model,\n",
    "    name=\"naima\")"
   ]
  },
  {
   "cell_type": "code",
   "execution_count": null,
   "id": "8e7c6ce0",
   "metadata": {},
   "outputs": [],
   "source": [
    "model = sky_model_naima\n",
    "datasets.models = [model]\n",
    "fit_joint = Fit(backend=\"sherpa\")\n",
    "result_joint = fit_joint.run(datasets=datasets)\n",
    "print(result_joint)"
   ]
  },
  {
   "cell_type": "code",
   "execution_count": null,
   "id": "366f10bf",
   "metadata": {},
   "outputs": [],
   "source": [
    "print(model)"
   ]
  },
  {
   "cell_type": "code",
   "execution_count": null,
   "id": "3ecb3175",
   "metadata": {},
   "outputs": [],
   "source": [
    "display(model.parameters.to_table())"
   ]
  },
  {
   "cell_type": "code",
   "execution_count": null,
   "id": "e06c3b53",
   "metadata": {
    "scrolled": true
   },
   "outputs": [],
   "source": [
    "dict_leg_style = plotter.set_leg_style(dict_leg_style, models = [model])\n",
    "dict_plot_limits = dict(\n",
    "    energy_bounds = [5e-2, 2e3] * u.TeV,\n",
    "    ylim = [1e-25, 1e-9]\n",
    ")\n",
    "plotter.plot_SED(\n",
    "    name = \"model_name\", \n",
    "    dict_plot_limits=dict_plot_limits,\n",
    "    datasets=datasets, \n",
    "    models=[model, sky_model_CTA_in], \n",
    "    dict_leg_style=dict_leg_style, \n",
    ")"
   ]
  },
  {
   "cell_type": "code",
   "execution_count": null,
   "id": "7c6602f5",
   "metadata": {},
   "outputs": [],
   "source": [
    "print(datasets_joint)"
   ]
  },
  {
   "cell_type": "code",
   "execution_count": null,
   "id": "0cae8c70",
   "metadata": {},
   "outputs": [],
   "source": [
    "list_data =[]\n",
    "names = [\"e_ref\", \"dnde\", \"dnde_errp\", \"dnde_errn\", \"is_ul\"]\n",
    "new_names = [\"energy\", \"flux\", \"flux_error_hi\", \"flux_error_lo\", \"ul\"]"
   ]
  },
  {
   "cell_type": "code",
   "execution_count": null,
   "id": "a162f353",
   "metadata": {},
   "outputs": [],
   "source": [
    "for index, dataset in enumerate(datasets_joint):\n",
    "    table = dataset.data.to_table(sed_type=\"dnde\")\n",
    "    table.rename_columns(names, new_names)\n",
    "    list_data.append(table[new_names])"
   ]
  },
  {
   "cell_type": "code",
   "execution_count": null,
   "id": "899f09f3",
   "metadata": {},
   "outputs": [],
   "source": [
    "list_data"
   ]
  },
  {
   "cell_type": "code",
   "execution_count": null,
   "id": "c1bfa181",
   "metadata": {},
   "outputs": [],
   "source": []
  },
  {
   "cell_type": "code",
   "execution_count": null,
   "id": "3549e303",
   "metadata": {},
   "outputs": [],
   "source": [
    "#!/usr/bin/env python\n",
    "import astropy.units as u\n",
    "import numpy as np\n",
    "from astropy.io import ascii\n",
    "\n",
    "import naima\n",
    "from naima.models import ExponentialCutoffPowerLaw, InverseCompton\n",
    "\n",
    "## Read data\n",
    "\n",
    "# data = ascii.read(\"RXJ1713_HESS_2007.dat\")\n",
    "\n",
    "\n",
    "def ElectronIC(pars, data):\n",
    "    \"\"\"\n",
    "    Define particle distribution model, radiative model, and return model flux\n",
    "    at data energy values\n",
    "    \"\"\"\n",
    "\n",
    "    ECPL = ExponentialCutoffPowerLaw(\n",
    "        pars[0] / u.eV, 10.0 * u.TeV, pars[1], 10 ** pars[2] * u.TeV\n",
    "    )\n",
    "    IC = InverseCompton(ECPL, seed_photon_fields=[\"CMB\"])\n",
    "\n",
    "    return IC.flux(data, distance=1.0 * u.kpc)\n",
    "\n",
    "\n",
    "def lnprior(pars):\n",
    "    # Limit amplitude to positive domain\n",
    "    logprob = naima.uniform_prior(pars[0], 0.0, np.inf)\n",
    "    return logprob"
   ]
  },
  {
   "cell_type": "code",
   "execution_count": null,
   "id": "c93664d3",
   "metadata": {},
   "outputs": [],
   "source": [
    "\n",
    "## Set initial parameters and labels\n",
    "p0 = np.array((1e30, 3.0, np.log10(30)))\n",
    "labels = [\"norm\", \"index\", \"log10(cutoff)\"]\n",
    "\n",
    "## Run sampler\n",
    "sampler, pos = naima.run_sampler(\n",
    "    data_table=list_data,\n",
    "    p0=p0,\n",
    "    labels=labels,\n",
    "    model=ElectronIC,\n",
    "    prior=lnprior,\n",
    "    nwalkers=32,\n",
    "    nburn=100,\n",
    "    nrun=20,\n",
    "    threads=4,\n",
    "    prefit=True,\n",
    "    interactive=False,\n",
    ")\n"
   ]
  },
  {
   "cell_type": "code",
   "execution_count": null,
   "id": "0ec76fd5",
   "metadata": {},
   "outputs": [],
   "source": [
    "## Save run results\n",
    "out_root = \"RXJ1713_IC_minimal\"\n",
    "naima.save_run(out_root + \".hdf5\", sampler)\n",
    "\n",
    "## Save diagnostic plots and results table\n",
    "naima.save_diagnostic_plots(out_root, sampler, sed=False)\n",
    "naima.save_results_table(out_root, sampler)"
   ]
  },
  {
   "cell_type": "code",
   "execution_count": null,
   "id": "a52c3564",
   "metadata": {},
   "outputs": [],
   "source": []
  }
 ],
 "metadata": {
  "kernelspec": {
   "display_name": "Python 3 (ipykernel)",
   "language": "python",
   "name": "python3"
  },
  "language_info": {
   "codemirror_mode": {
    "name": "ipython",
    "version": 3
   },
   "file_extension": ".py",
   "mimetype": "text/x-python",
   "name": "python",
   "nbconvert_exporter": "python",
   "pygments_lexer": "ipython3",
   "version": "3.9.16"
  }
 },
 "nbformat": 4,
 "nbformat_minor": 5
}
