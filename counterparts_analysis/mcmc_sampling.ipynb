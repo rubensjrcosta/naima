{
 "cells": [
  {
   "cell_type": "markdown",
   "metadata": {},
   "source": [
    "# MCMC sampling using the emcee package\n",
    "\n",
    "## Introduction\n",
    "\n",
    "The goal of Markov Chain Monte Carlo (MCMC) algorithms is to approximate the posterior distribution of your model parameters by random sampling in a probabilistic space. For most readers this sentence was probably not very helpful so here we'll start straight with and example but you should read the more detailed mathematical approaches of the method [here](https://www.pas.rochester.edu/~sybenzvi/courses/phy403/2015s/p403_17_mcmc.pdf) and [here](https://github.com/jakevdp/BayesianAstronomy/blob/master/03-Bayesian-Modeling-With-MCMC.ipynb).\n",
    "\n",
    "### How does it work ?\n",
    "\n",
    "The idea is that we use a number of walkers that will sample the posterior distribution (i.e. sample the Likelihood profile).\n",
    "\n",
    "The goal is to produce a \"chain\", i.e. a list of $\\theta$ values, where each $\\theta$ is a vector of parameters for your model.<br>\n",
    "If you start far away from the truth value, the chain will take some time to converge until it reaches a stationary state. Once it has reached this stage, each successive elements of the chain are samples of the target posterior distribution.<br>\n",
    "This means that, once we have obtained the chain of samples, we have everything we need. We can compute the  distribution of each parameter by simply approximating it with the histogram of the samples projected into the parameter space. This will provide the errors and correlations between parameters.\n",
    "\n",
    "\n",
    "Now let's try to put a picture on the ideas described above. With this notebook, we have simulated and carried out a MCMC analysis for a source with the following parameters:<br>\n",
    "$Index=2.0$, $Norm=5\\times10^{-12}$ cm$^{-2}$ s$^{-1}$ TeV$^{-1}$, $Lambda =(1/Ecut) = 0.02$ TeV$^{-1}$ (50 TeV) for 20 hours.\n",
    "\n",
    "The results that you can get from a MCMC analysis will look like this :\n",
    "\n",
    "<img src=\"gammapy_mcmc.png\" width=\"800\">\n",
    "\n",
    "On the first two top panels, we show the pseudo-random walk of one walker from an offset starting value to see it evolve to a better solution.\n",
    "In the bottom right panel, we show the trace of each 16 walkers for 500 runs (the chain described previsouly). For the first 100 runs, the parameter evolve towards a solution (can be viewed as a fitting step). Then they explore the local minimum for 400 runs which will be used to estimate the parameters correlations and errors.\n",
    "The choice of the Nburn value (when walkers have reached a stationary stage) can be done by eye but you can also look at the autocorrelation time.\n",
    "\n",
    "### Why should I use it ?\n",
    "\n",
    "When it comes to evaluate errors and investigate parameter correlation, one typically estimate the Likelihood in a gridded search (2D Likelihood profiles). Each point of the grid implies a new model fitting. If we use 10 steps for each parameters, we will need to carry out 100 fitting procedures. \n",
    "\n",
    "Now let's say that I have a model with $N$ parameters, we need to carry out that gridded analysis $N*(N-1)$ times. \n",
    "So for 5 free parameters you need 20 gridded search, resulting in 2000 individual fit. \n",
    "Clearly this strategy doesn't scale well to high-dimensional models.\n",
    "\n",
    "Just for fun: if each fit procedure takes 10s, we're talking about 5h of computing time to estimate the correlation plots. \n",
    "\n",
    "There are many MCMC packages in the python ecosystem but here we will focus on [emcee](https://emcee.readthedocs.io), a lightweight Python package. A description is provided here : [Foreman-Mackey, Hogg, Lang & Goodman (2012)](https://arxiv.org/abs/1202.3665)."
   ]
  },
  {
   "cell_type": "code",
   "execution_count": 1,
   "metadata": {
    "execution": {
     "iopub.execute_input": "2021-01-29T12:57:47.005415Z",
     "iopub.status.busy": "2021-01-29T12:57:47.004770Z",
     "iopub.status.idle": "2021-01-29T12:57:47.290062Z",
     "shell.execute_reply": "2021-01-29T12:57:47.289399Z"
    }
   },
   "outputs": [],
   "source": [
    "%matplotlib inline\n",
    "import matplotlib.pyplot as plt\n",
    "import warnings\n",
    "\n",
    "warnings.filterwarnings(\"ignore\")"
   ]
  },
  {
   "cell_type": "code",
   "execution_count": 2,
   "metadata": {
    "execution": {
     "iopub.execute_input": "2021-01-29T12:57:47.296334Z",
     "iopub.status.busy": "2021-01-29T12:57:47.295724Z",
     "iopub.status.idle": "2021-01-29T12:57:48.298632Z",
     "shell.execute_reply": "2021-01-29T12:57:48.298169Z"
    }
   },
   "outputs": [],
   "source": [
    "import numpy as np\n",
    "import astropy.units as u\n",
    "from astropy.coordinates import SkyCoord\n",
    "from gammapy.irf import load_cta_irfs\n",
    "from gammapy.maps import WcsGeom, MapAxis\n",
    "from gammapy.modeling.models import (\n",
    "    ExpCutoffPowerLawSpectralModel,\n",
    "    GaussianSpatialModel,\n",
    "    SkyModel,\n",
    "    Models,\n",
    "    FoVBackgroundModel,\n",
    ")\n",
    "from gammapy.datasets import MapDataset\n",
    "from gammapy.makers import MapDatasetMaker\n",
    "from gammapy.data import Observation\n",
    "# from gammapy.modeling.sampling import (\n",
    "#     run_mcmc,\n",
    "#     par_to_model,\n",
    "#     plot_corner,\n",
    "#     plot_trace,\n",
    "# )\n",
    "import emcee\n",
    "import corner\n",
    "from gammapy.modeling import Fit"
   ]
  },
  {
   "cell_type": "code",
   "execution_count": 3,
   "metadata": {
    "execution": {
     "iopub.execute_input": "2021-01-29T12:57:48.303713Z",
     "iopub.status.busy": "2021-01-29T12:57:48.302450Z",
     "iopub.status.idle": "2021-01-29T12:57:48.304208Z",
     "shell.execute_reply": "2021-01-29T12:57:48.304699Z"
    }
   },
   "outputs": [],
   "source": [
    "import logging\n",
    "\n",
    "logging.basicConfig(level=logging.INFO)"
   ]
  },
  {
   "cell_type": "markdown",
   "metadata": {},
   "source": [
    "## Simulate an observation\n",
    "\n",
    "Here we will start by simulating an observation using the `simulate_dataset` method."
   ]
  },
  {
   "cell_type": "code",
   "execution_count": 8,
   "metadata": {
    "execution": {
     "iopub.execute_input": "2021-01-29T12:57:48.309341Z",
     "iopub.status.busy": "2021-01-29T12:57:48.308731Z",
     "iopub.status.idle": "2021-01-29T12:57:48.392070Z",
     "shell.execute_reply": "2021-01-29T12:57:48.391269Z"
    }
   },
   "outputs": [
    {
     "name": "stderr",
     "output_type": "stream",
     "text": [
      "WARNING:gammapy.irf.background:Invalid unit found in background table! Assuming (s-1 MeV-1 sr-1)\n"
     ]
    }
   ],
   "source": [
    "irfs = load_cta_irfs(\n",
    "    \"$GAMMAPY_DATA/cta-1dc/caldb/data/cta/1dc/bcf/South_z20_50h/irf_file.fits\"\n",
    ")\n",
    "\n",
    "observation = Observation.create(\n",
    "    pointing=SkyCoord(0 * u.deg, 0 * u.deg, frame=\"galactic\"),\n",
    "    livetime=20 * u.h,\n",
    "    irfs=irfs,\n",
    ")"
   ]
  },
  {
   "cell_type": "code",
   "execution_count": 9,
   "metadata": {
    "execution": {
     "iopub.execute_input": "2021-01-29T12:57:48.402319Z",
     "iopub.status.busy": "2021-01-29T12:57:48.399754Z",
     "iopub.status.idle": "2021-01-29T12:57:48.965520Z",
     "shell.execute_reply": "2021-01-29T12:57:48.965034Z"
    }
   },
   "outputs": [],
   "source": [
    "# Define map geometry\n",
    "axis = MapAxis.from_edges(\n",
    "    np.logspace(-1, 2, 15), unit=\"TeV\", name=\"energy\", interp=\"log\"\n",
    ")\n",
    "\n",
    "geom = WcsGeom.create(\n",
    "    skydir=(0, 0), binsz=0.05, width=(2, 2), frame=\"galactic\", axes=[axis]\n",
    ")\n",
    "\n",
    "empty_dataset = MapDataset.create(geom=geom, name=\"dataset-mcmc\")\n",
    "maker = MapDatasetMaker(selection=[\"background\", \"edisp\", \"psf\", \"exposure\"])\n",
    "dataset = maker.run(empty_dataset, observation)"
   ]
  },
  {
   "cell_type": "code",
   "execution_count": 10,
   "metadata": {
    "execution": {
     "iopub.execute_input": "2021-01-29T12:57:48.984479Z",
     "iopub.status.busy": "2021-01-29T12:57:48.978257Z",
     "iopub.status.idle": "2021-01-29T12:57:48.987775Z",
     "shell.execute_reply": "2021-01-29T12:57:48.987325Z"
    }
   },
   "outputs": [
    {
     "name": "stdout",
     "output_type": "stream",
     "text": [
      "Models\n",
      "\n",
      "Component 0: SkyModel\n",
      "\n",
      "  Name                      : source\n",
      "  Datasets names            : None\n",
      "  Spectral model type       : ExpCutoffPowerLawSpectralModel\n",
      "  Spatial  model type       : GaussianSpatialModel\n",
      "  Temporal model type       : \n",
      "  Parameters:\n",
      "    index                         :      2.000   +/-    0.00             \n",
      "    amplitude                     :   3.00e-12   +/- 0.0e+00 1 / (cm2 s TeV)\n",
      "    reference             (frozen):      1.000       TeV         \n",
      "    lambda_                       :      0.050   +/-    0.00 1 / TeV     \n",
      "    alpha                 (frozen):      1.000                   \n",
      "    lon_0                         :      0.000   +/-    0.00 deg         \n",
      "    lat_0                         :      0.000   +/-    0.00 deg         \n",
      "    sigma                         :      0.200   +/-    0.00 deg         \n",
      "    e                     (frozen):      0.000                   \n",
      "    phi                   (frozen):      0.000       deg         \n",
      "\n",
      "Component 1: FoVBackgroundModel\n",
      "\n",
      "  Name                      : dataset-mcmc-bkg\n",
      "  Datasets names            : ['dataset-mcmc']\n",
      "  Spectral model type       : PowerLawNormSpectralModel\n",
      "  Parameters:\n",
      "    norm                          :      1.000   +/-    0.00             \n",
      "    tilt                  (frozen):      0.000                   \n",
      "    reference             (frozen):      1.000       TeV         \n",
      "\n",
      "\n"
     ]
    }
   ],
   "source": [
    "# Define sky model to simulate the data\n",
    "spatial_model = GaussianSpatialModel(\n",
    "    lon_0=\"0 deg\", lat_0=\"0 deg\", sigma=\"0.2 deg\", frame=\"galactic\"\n",
    ")\n",
    "\n",
    "spectral_model = ExpCutoffPowerLawSpectralModel(\n",
    "    index=2,\n",
    "    amplitude=\"3e-12 cm-2 s-1 TeV-1\",\n",
    "    reference=\"1 TeV\",\n",
    "    lambda_=\"0.05 TeV-1\",\n",
    ")\n",
    "\n",
    "sky_model_simu = SkyModel(\n",
    "    spatial_model=spatial_model, spectral_model=spectral_model, name=\"source\"\n",
    ")\n",
    "\n",
    "bkg_model = FoVBackgroundModel(dataset_name=\"dataset-mcmc\")\n",
    "models = Models([sky_model_simu, bkg_model])\n",
    "print(models)"
   ]
  },
  {
   "cell_type": "code",
   "execution_count": 11,
   "metadata": {
    "execution": {
     "iopub.execute_input": "2021-01-29T12:57:48.993626Z",
     "iopub.status.busy": "2021-01-29T12:57:48.992820Z",
     "iopub.status.idle": "2021-01-29T12:57:49.105859Z",
     "shell.execute_reply": "2021-01-29T12:57:49.105063Z"
    }
   },
   "outputs": [],
   "source": [
    "dataset.models = models\n",
    "dataset.fake()"
   ]
  },
  {
   "cell_type": "code",
   "execution_count": 12,
   "metadata": {
    "execution": {
     "iopub.execute_input": "2021-01-29T12:57:49.110623Z",
     "iopub.status.busy": "2021-01-29T12:57:49.109513Z",
     "iopub.status.idle": "2021-01-29T12:57:49.722134Z",
     "shell.execute_reply": "2021-01-29T12:57:49.721648Z"
    }
   },
   "outputs": [
    {
     "data": {
      "image/png": "[encoded data removed]",
      "text/plain": [
       "<Figure size 640x480 with 2 Axes>"
      ]
     },
     "metadata": {},
     "output_type": "display_data"
    }
   ],
   "source": [
    "dataset.counts.sum_over_axes().plot(add_cbar=True);"
   ]
  },
  {
   "cell_type": "code",
   "execution_count": 13,
   "metadata": {
    "execution": {
     "iopub.execute_input": "2021-01-29T12:57:49.725615Z",
     "iopub.status.busy": "2021-01-29T12:57:49.725093Z",
     "iopub.status.idle": "2021-01-29T12:57:49.728500Z",
     "shell.execute_reply": "2021-01-29T12:57:49.727932Z"
    }
   },
   "outputs": [],
   "source": [
    "# If you want to fit the data for comparison with MCMC later\n",
    "# fit = Fit(dataset)\n",
    "# result = fit.run(optimize_opts={\"print_level\": 1})"
   ]
  },
  {
   "cell_type": "markdown",
   "metadata": {},
   "source": [
    "## Estimate parameter correlations with MCMC\n",
    "\n",
    "Now let's analyse the simulated data.\n",
    "Here we just fit it again with the same model we had before as a starting point.\n",
    "The data that would be needed are the following: \n",
    "- counts cube, psf cube, exposure cube and background model\n",
    "\n",
    "Luckily all those maps are already in the Dataset object.\n",
    "\n",
    "We will need to define a Likelihood function and define priors on parameters.<br>\n",
    "Here we will assume a uniform prior reading the min, max parameters from the sky model."
   ]
  },
  {
   "cell_type": "markdown",
   "metadata": {},
   "source": [
    "### Define priors\n",
    "\n",
    "This steps is a bit manual for the moment until we find a better API to define priors.<br>\n",
    "Note the you **need** to define priors for each parameter otherwise your walkers can explore uncharted territories (e.g. negative norms)."
   ]
  },
  {
   "cell_type": "code",
   "execution_count": 14,
   "metadata": {
    "execution": {
     "iopub.execute_input": "2021-01-29T12:57:49.731966Z",
     "iopub.status.busy": "2021-01-29T12:57:49.731467Z",
     "iopub.status.idle": "2021-01-29T12:57:49.749902Z",
     "shell.execute_reply": "2021-01-29T12:57:49.749476Z"
    }
   },
   "outputs": [
    {
     "name": "stdout",
     "output_type": "stream",
     "text": [
      "MapDataset\n",
      "----------\n",
      "\n",
      "  Name                            : dataset-mcmc \n",
      "\n",
      "  Total counts                    : 247982 \n",
      "  Total background counts         : 238923.09\n",
      "  Total excess counts             : 9058.91\n",
      "\n",
      "  Predicted counts                : 248096.29\n",
      "  Predicted background counts     : 238923.09\n",
      "  Predicted excess counts         : 9173.21\n",
      "\n",
      "  Exposure min                    : 1.14e+10 m2 s\n",
      "  Exposure max                    : 3.45e+11 m2 s\n",
      "\n",
      "  Number of total bins            : 22400 \n",
      "  Number of fit bins              : 22400 \n",
      "\n",
      "  Fit statistic type              : cash\n",
      "  Fit statistic value (-2 log(L)) : -1295648.43\n",
      "\n",
      "  Number of models                : 2 \n",
      "  Number of parameters            : 13\n",
      "  Number of free parameters       : 7\n",
      "\n",
      "  Component 0: SkyModel\n",
      "  \n",
      "    Name                      : source\n",
      "    Datasets names            : None\n",
      "    Spectral model type       : ExpCutoffPowerLawSpectralModel\n",
      "    Spatial  model type       : GaussianSpatialModel\n",
      "    Temporal model type       : \n",
      "    Parameters:\n",
      "      index                         :      2.000   +/-    0.00             \n",
      "      amplitude                     :   3.00e-12   +/- 0.0e+00 1 / (cm2 s TeV)\n",
      "      reference             (frozen):      1.000       TeV         \n",
      "      lambda_                       :      0.050   +/-    0.00 1 / TeV     \n",
      "      alpha                 (frozen):      1.000                   \n",
      "      lon_0                         :      0.000   +/-    0.00 deg         \n",
      "      lat_0                         :      0.000   +/-    0.00 deg         \n",
      "      sigma                         :      0.200   +/-    0.00 deg         \n",
      "      e                     (frozen):      0.000                   \n",
      "      phi                   (frozen):      0.000       deg         \n",
      "  \n",
      "  Component 1: FoVBackgroundModel\n",
      "  \n",
      "    Name                      : dataset-mcmc-bkg\n",
      "    Datasets names            : ['dataset-mcmc']\n",
      "    Spectral model type       : PowerLawNormSpectralModel\n",
      "    Parameters:\n",
      "      norm                          :      1.000   +/-    0.00             \n",
      "      tilt                  (frozen):      0.000                   \n",
      "      reference             (frozen):      1.000       TeV         \n",
      "  \n",
      "  \n"
     ]
    }
   ],
   "source": [
    "print(dataset)"
   ]
  },
  {
   "cell_type": "code",
   "execution_count": 21,
   "metadata": {},
   "outputs": [
    {
     "data": {
      "text/plain": [
       "<gammapy.modeling.parameter.Parameters at 0x7f9af05841f0>"
      ]
     },
     "execution_count": 21,
     "metadata": {},
     "output_type": "execute_result"
    }
   ],
   "source": []
  },
  {
   "cell_type": "code",
   "execution_count": 18,
   "metadata": {
    "execution": {
     "iopub.execute_input": "2021-01-29T12:57:49.757714Z",
     "iopub.status.busy": "2021-01-29T12:57:49.756987Z",
     "iopub.status.idle": "2021-01-29T12:57:49.769824Z",
     "shell.execute_reply": "2021-01-29T12:57:49.769403Z"
    }
   },
   "outputs": [
    {
     "name": "stdout",
     "output_type": "stream",
     "text": [
      "DatasetModels\n",
      "\n",
      "Component 0: SkyModel\n",
      "\n",
      "  Name                      : source\n",
      "  Datasets names            : None\n",
      "  Spectral model type       : ExpCutoffPowerLawSpectralModel\n",
      "  Spatial  model type       : GaussianSpatialModel\n",
      "  Temporal model type       : \n",
      "  Parameters:\n",
      "    index                         :      2.000   +/-    0.00             \n",
      "    amplitude                     :   3.20e-12   +/- 0.0e+00 1 / (cm2 s TeV)\n",
      "    reference             (frozen):      1.000       TeV         \n",
      "    lambda_                       :      0.050   +/-    0.00 1 / TeV     \n",
      "    alpha                 (frozen):      1.000                   \n",
      "    lon_0                 (frozen):      0.000       deg         \n",
      "    lat_0                 (frozen):      0.000       deg         \n",
      "    sigma                 (frozen):      0.200       deg         \n",
      "    e                     (frozen):      0.000                   \n",
      "    phi                   (frozen):      0.000       deg         \n",
      "\n",
      "Component 1: FoVBackgroundModel\n",
      "\n",
      "  Name                      : dataset-mcmc-bkg\n",
      "  Datasets names            : ['dataset-mcmc']\n",
      "  Spectral model type       : PowerLawNormSpectralModel\n",
      "  Parameters:\n",
      "    norm                  (frozen):      1.000                   \n",
      "    tilt                  (frozen):      0.000                   \n",
      "    reference             (frozen):      1.000       TeV         \n",
      "\n",
      "\n",
      "stat = -1295631.1735571236\n"
     ]
    }
   ],
   "source": [
    "# Define the free parameters and min, max values\n",
    "parameters = dataset.models.parameters\n",
    "\n",
    "parameters[\"sigma\"].frozen = True\n",
    "parameters[\"lon_0\"].frozen = True\n",
    "parameters[\"lat_0\"].frozen = True\n",
    "parameters[\"amplitude\"].frozen = False\n",
    "parameters[\"index\"].frozen = False\n",
    "parameters[\"lambda_\"].frozen = False\n",
    "\n",
    "\n",
    "parameters[\"norm\"].frozen = True\n",
    "parameters[\"tilt\"].frozen = True\n",
    "\n",
    "parameters[\"norm\"].min = 0.5\n",
    "parameters[\"norm\"].max = 2\n",
    "\n",
    "parameters[\"index\"].min = 1\n",
    "parameters[\"index\"].max = 5\n",
    "parameters[\"lambda_\"].min = 1e-3\n",
    "parameters[\"lambda_\"].max = 1\n",
    "\n",
    "parameters[\"amplitude\"].min = 0.01 * parameters[\"amplitude\"].value\n",
    "parameters[\"amplitude\"].max = 100 * parameters[\"amplitude\"].value\n",
    "\n",
    "parameters[\"sigma\"].min = 0.05\n",
    "parameters[\"sigma\"].max = 1\n",
    "\n",
    "# Setting amplitude init values a bit offset to see evolution\n",
    "# Here starting close to the real value\n",
    "parameters[\"index\"].value = 2.0\n",
    "parameters[\"amplitude\"].value = 3.2e-12\n",
    "parameters[\"lambda_\"].value = 0.05\n",
    "\n",
    "print(dataset.models)\n",
    "print(\"stat =\", dataset.stat_sum())"
   ]
  },
  {
   "cell_type": "code",
   "execution_count": 31,
   "metadata": {},
   "outputs": [],
   "source": [
    "# Prior functions\n",
    "\n",
    "\n",
    "def uniform_prior(value, umin, umax):\n",
    "    \"\"\"Uniform prior distribution.\"\"\"\n",
    "    if umin <= value <= umax:\n",
    "        return 0.0\n",
    "    else:\n",
    "        return -np.inf\n",
    "\n",
    "\n",
    "def normal_prior(value, mean, sigma):\n",
    "    \"\"\"Normal prior distribution.\"\"\"\n",
    "    return -0.5 * (2 * np.pi * sigma) - (value - mean) ** 2 / (2.0 * sigma)\n",
    "\n",
    "def model_to_par(dataset):\n",
    "    \"\"\"\n",
    "    Return a tuple of the factor parameters of all \n",
    "    free parameters in the dataset sky model.\n",
    "    \"\"\"\n",
    "    pars = []\n",
    "    for p in dataset.models.parameters.free_parameters:\n",
    "        pars.append(p.factor)\n",
    "\n",
    "    return pars\n",
    "\n",
    "\n",
    "def par_to_model(dataset, pars):\n",
    "    \"\"\"Update model in dataset with a list of free parameters factors\"\"\"\n",
    "    for i, p in enumerate(dataset.models.parameters.free_parameters):\n",
    "        p.factor = pars[i]\n",
    "\n",
    "\n",
    "def lnprior(dataset):\n",
    "    \"\"\"\n",
    "    Return probability of parameter values according to prior knowledge.\n",
    "    Parameter limits should be done here through uniform prior ditributions\n",
    "    \"\"\"\n",
    "    logprob = 0\n",
    "    for par in dataset.models.parameters.free_parameters:\n",
    "        logprob += uniform_prior(par.value, par.min, par.max)\n",
    "\n",
    "    return logprob\n",
    "\n",
    "\n",
    "def lnprob(pars, dataset, verb=False):\n",
    "    \"\"\"Estimate the likelihood of a model including prior on parameters.\"\"\"\n",
    "    # Update model parameters factors inplace\n",
    "    for factor, par in zip(pars, dataset.models.parameters.free_parameters):\n",
    "        par.factor = factor\n",
    "\n",
    "    lnprob_priors = lnprior(dataset)\n",
    "\n",
    "    # dataset.likelihood returns Cash statistics values\n",
    "    # emcee will maximisise the LogLikelihood so we need -dataset.likelihood\n",
    "    total_lnprob = -dataset.likelihood() + lnprob_priors\n",
    "\n",
    "    if verb:\n",
    "        print(\"Parameters are:\", pars)\n",
    "        print(\"LL=\", total_lnprob)\n",
    "        for p in dataset.models.parameters.free_parameters:\n",
    "            print(p)\n",
    "        print(\"\")\n",
    "\n",
    "    return total_lnprob\n",
    "\n",
    "# Now let's define a function to init parameters and run the MCMC with emcee\n",
    "# Depending on your number of walkers, Nrun and dimensionality, this can take a while (> minutes)\n",
    "\n",
    "\n"
   ]
  },
  {
   "cell_type": "code",
   "execution_count": 34,
   "metadata": {},
   "outputs": [
    {
     "data": {
      "text/plain": [
       "<bound method MapDataset.stat_sum of <gammapy.datasets.map.MapDataset object at 0x7f9af07e1be0>>"
      ]
     },
     "execution_count": 34,
     "metadata": {},
     "output_type": "execute_result"
    }
   ],
   "source": [
    "dataset.stat_sum"
   ]
  },
  {
   "cell_type": "code",
   "execution_count": 32,
   "metadata": {},
   "outputs": [],
   "source": [
    "def run_mcmc(dataset, nwalkers=12, nrun=500, threads=1):\n",
    "    \"\"\"\n",
    "    Run the MCMC sampler.\n",
    "    \n",
    "    Parameters\n",
    "    ----------\n",
    "    dataset : `MapDataset`  \n",
    "        A gammapy dataset object. This contains the observed counts cube,\n",
    "        the exposure cube, the psf cube, and the sky model and model.\n",
    "        Each free parameter in the sky model is considered as parameter for the MCMC.\n",
    "    nwalkers: int\n",
    "        Required integer number of walkers to use in ensemble.\n",
    "        Minimum is 2*nparam+2, but more than that is usually better.\n",
    "        Must be even to use MPI mode.\n",
    "    nrun: int\n",
    "        Number of steps for walkers. Typically at least a few hundreds (but depends on dimensionality).\n",
    "        Low nrun (<100?) will underestimate the errors. \n",
    "        Samples that would populate the distribution are nrun*nwalkers.\n",
    "        This step can be ~seen as the error estimation step. \n",
    "    \"\"\"\n",
    "    dataset.models.parameters.autoscale()  # Autoscale parameters\n",
    "    pars = model_to_par(dataset)  # get a tuple of parameters from dataset\n",
    "    ndim = len(pars)\n",
    "\n",
    "    # Initialize walkers in a ball of relative size 0.5% in all dimensions if the\n",
    "    # parameters have been fit, or to 10% otherwise\n",
    "    spread = 0.5 / 100\n",
    "    p0var = np.array([spread * pp for pp in pars])\n",
    "    p0 = emcee.utils.sample_ball(pars, p0var, nwalkers)\n",
    "\n",
    "    labels = []\n",
    "    for par in dataset.models.parameters.free_parameters:\n",
    "        labels.append(par.name)\n",
    "        if (par.min is np.nan) and (par.max is np.nan):\n",
    "            print(\n",
    "                \"Warning: no priors have been set for parameter %s\\n The MCMC will likely not work !\"\n",
    "                % (par.name)\n",
    "            )\n",
    "\n",
    "    print(\"List of free parameters:\", labels)\n",
    "    print(\"{} walkers will run for {} steps\".format(nwalkers, nrun))\n",
    "    print(\"Parameters init value for 1st walker:\", p0[0])\n",
    "    sampler = emcee.EnsembleSampler(\n",
    "        nwalkers, ndim, lnprob, args=[dataset], threads=threads\n",
    "    )\n",
    "\n",
    "    for idx, result in enumerate(sampler.sample(p0, iterations=nrun)):\n",
    "        if (idx + 1) % 100 == 0:\n",
    "            print(\"{0:5.0%}\".format(idx / nrun))\n",
    "\n",
    "    return sampler\n",
    "\n",
    "\n",
    "# sampler = run_mcmc(dataset, nwalkers=8, nrun=500)  # to speedup the notebook\n",
    "# # sampler=run_mcmc(dataset,nwalkers=16,nrun=1000) # more accurate contours"
   ]
  },
  {
   "cell_type": "code",
   "execution_count": 33,
   "metadata": {
    "execution": {
     "iopub.execute_input": "2021-01-29T12:57:49.773906Z",
     "iopub.status.busy": "2021-01-29T12:57:49.773410Z",
     "iopub.status.idle": "2021-01-29T12:57:57.839428Z",
     "shell.execute_reply": "2021-01-29T12:57:57.840016Z"
    }
   },
   "outputs": [
    {
     "name": "stdout",
     "output_type": "stream",
     "text": [
      "List of free parameters: ['index', 'amplitude', 'lambda_']\n",
      "6 walkers will run for 150 steps\n",
      "Parameters init value for 1st walker: [2.00330512 3.22746885 4.98014966]\n",
      "emcee: Exception while calling your likelihood function:\n",
      "  params: [2.00330512 3.22746885 4.98014966]\n",
      "  args: [<gammapy.datasets.map.MapDataset object at 0x7f9af07e1be0>]\n",
      "  kwargs: {}\n",
      "  exception:\n"
     ]
    },
    {
     "name": "stderr",
     "output_type": "stream",
     "text": [
      "Traceback (most recent call last):\n",
      "  File \"/home/born-again/anaconda3/envs/gammapy-1.0/lib/python3.9/site-packages/emcee/ensemble.py\", line 624, in __call__\n",
      "    return self.f(x, *self.args, **self.kwargs)\n",
      "  File \"/tmp/ipykernel_15822/1913028757.py\", line 56, in lnprob\n",
      "    total_lnprob = -dataset.likelihood() + lnprob_priors\n",
      "AttributeError: 'MapDataset' object has no attribute 'likelihood'\n"
     ]
    },
    {
     "ename": "AttributeError",
     "evalue": "'MapDataset' object has no attribute 'likelihood'",
     "output_type": "error",
     "traceback": [
      "\u001b[0;31m---------------------------------------------------------------------------\u001b[0m",
      "\u001b[0;31mAttributeError\u001b[0m                            Traceback (most recent call last)",
      "File \u001b[0;32m<timed exec>:3\u001b[0m, in \u001b[0;36m<module>\u001b[0;34m\u001b[0m\n",
      "Input \u001b[0;32mIn [32]\u001b[0m, in \u001b[0;36mrun_mcmc\u001b[0;34m(dataset, nwalkers, nrun, threads)\u001b[0m\n\u001b[1;32m     42\u001b[0m \u001b[38;5;28mprint\u001b[39m(\u001b[38;5;124m\"\u001b[39m\u001b[38;5;124mParameters init value for 1st walker:\u001b[39m\u001b[38;5;124m\"\u001b[39m, p0[\u001b[38;5;241m0\u001b[39m])\n\u001b[1;32m     43\u001b[0m sampler \u001b[38;5;241m=\u001b[39m emcee\u001b[38;5;241m.\u001b[39mEnsembleSampler(\n\u001b[1;32m     44\u001b[0m     nwalkers, ndim, lnprob, args\u001b[38;5;241m=\u001b[39m[dataset], threads\u001b[38;5;241m=\u001b[39mthreads\n\u001b[1;32m     45\u001b[0m )\n\u001b[0;32m---> 47\u001b[0m \u001b[38;5;28;01mfor\u001b[39;00m idx, result \u001b[38;5;129;01min\u001b[39;00m \u001b[38;5;28menumerate\u001b[39m(sampler\u001b[38;5;241m.\u001b[39msample(p0, iterations\u001b[38;5;241m=\u001b[39mnrun)):\n\u001b[1;32m     48\u001b[0m     \u001b[38;5;28;01mif\u001b[39;00m (idx \u001b[38;5;241m+\u001b[39m \u001b[38;5;241m1\u001b[39m) \u001b[38;5;241m%\u001b[39m \u001b[38;5;241m100\u001b[39m \u001b[38;5;241m==\u001b[39m \u001b[38;5;241m0\u001b[39m:\n\u001b[1;32m     49\u001b[0m         \u001b[38;5;28mprint\u001b[39m(\u001b[38;5;124m\"\u001b[39m\u001b[38;5;132;01m{0:5.0%}\u001b[39;00m\u001b[38;5;124m\"\u001b[39m\u001b[38;5;241m.\u001b[39mformat(idx \u001b[38;5;241m/\u001b[39m nrun))\n",
      "File \u001b[0;32m~/anaconda3/envs/gammapy-1.0/lib/python3.9/site-packages/emcee/ensemble.py:344\u001b[0m, in \u001b[0;36mEnsembleSampler.sample\u001b[0;34m(self, initial_state, log_prob0, rstate0, blobs0, iterations, tune, skip_initial_state_check, thin_by, thin, store, progress, progress_kwargs)\u001b[0m\n\u001b[1;32m    342\u001b[0m     state\u001b[38;5;241m.\u001b[39mblobs \u001b[38;5;241m=\u001b[39m blobs0\n\u001b[1;32m    343\u001b[0m \u001b[38;5;28;01mif\u001b[39;00m state\u001b[38;5;241m.\u001b[39mlog_prob \u001b[38;5;129;01mis\u001b[39;00m \u001b[38;5;28;01mNone\u001b[39;00m:\n\u001b[0;32m--> 344\u001b[0m     state\u001b[38;5;241m.\u001b[39mlog_prob, state\u001b[38;5;241m.\u001b[39mblobs \u001b[38;5;241m=\u001b[39m \u001b[38;5;28;43mself\u001b[39;49m\u001b[38;5;241;43m.\u001b[39;49m\u001b[43mcompute_log_prob\u001b[49m\u001b[43m(\u001b[49m\u001b[43mstate\u001b[49m\u001b[38;5;241;43m.\u001b[39;49m\u001b[43mcoords\u001b[49m\u001b[43m)\u001b[49m\n\u001b[1;32m    345\u001b[0m \u001b[38;5;28;01mif\u001b[39;00m np\u001b[38;5;241m.\u001b[39mshape(state\u001b[38;5;241m.\u001b[39mlog_prob) \u001b[38;5;241m!=\u001b[39m (\u001b[38;5;28mself\u001b[39m\u001b[38;5;241m.\u001b[39mnwalkers,):\n\u001b[1;32m    346\u001b[0m     \u001b[38;5;28;01mraise\u001b[39;00m \u001b[38;5;167;01mValueError\u001b[39;00m(\u001b[38;5;124m\"\u001b[39m\u001b[38;5;124mincompatible input dimensions\u001b[39m\u001b[38;5;124m\"\u001b[39m)\n",
      "File \u001b[0;32m~/anaconda3/envs/gammapy-1.0/lib/python3.9/site-packages/emcee/ensemble.py:489\u001b[0m, in \u001b[0;36mEnsembleSampler.compute_log_prob\u001b[0;34m(self, coords)\u001b[0m\n\u001b[1;32m    487\u001b[0m     \u001b[38;5;28;01melse\u001b[39;00m:\n\u001b[1;32m    488\u001b[0m         map_func \u001b[38;5;241m=\u001b[39m \u001b[38;5;28mmap\u001b[39m\n\u001b[0;32m--> 489\u001b[0m     results \u001b[38;5;241m=\u001b[39m \u001b[38;5;28;43mlist\u001b[39;49m\u001b[43m(\u001b[49m\u001b[43mmap_func\u001b[49m\u001b[43m(\u001b[49m\u001b[38;5;28;43mself\u001b[39;49m\u001b[38;5;241;43m.\u001b[39;49m\u001b[43mlog_prob_fn\u001b[49m\u001b[43m,\u001b[49m\u001b[43m \u001b[49m\u001b[43mp\u001b[49m\u001b[43m)\u001b[49m\u001b[43m)\u001b[49m\n\u001b[1;32m    491\u001b[0m \u001b[38;5;28;01mtry\u001b[39;00m:\n\u001b[1;32m    492\u001b[0m     log_prob \u001b[38;5;241m=\u001b[39m np\u001b[38;5;241m.\u001b[39marray([\u001b[38;5;28mfloat\u001b[39m(l[\u001b[38;5;241m0\u001b[39m]) \u001b[38;5;28;01mfor\u001b[39;00m l \u001b[38;5;129;01min\u001b[39;00m results])\n",
      "File \u001b[0;32m~/anaconda3/envs/gammapy-1.0/lib/python3.9/site-packages/emcee/ensemble.py:624\u001b[0m, in \u001b[0;36m_FunctionWrapper.__call__\u001b[0;34m(self, x)\u001b[0m\n\u001b[1;32m    622\u001b[0m \u001b[38;5;28;01mdef\u001b[39;00m \u001b[38;5;21m__call__\u001b[39m(\u001b[38;5;28mself\u001b[39m, x):\n\u001b[1;32m    623\u001b[0m     \u001b[38;5;28;01mtry\u001b[39;00m:\n\u001b[0;32m--> 624\u001b[0m         \u001b[38;5;28;01mreturn\u001b[39;00m \u001b[38;5;28;43mself\u001b[39;49m\u001b[38;5;241;43m.\u001b[39;49m\u001b[43mf\u001b[49m\u001b[43m(\u001b[49m\u001b[43mx\u001b[49m\u001b[43m,\u001b[49m\u001b[43m \u001b[49m\u001b[38;5;241;43m*\u001b[39;49m\u001b[38;5;28;43mself\u001b[39;49m\u001b[38;5;241;43m.\u001b[39;49m\u001b[43margs\u001b[49m\u001b[43m,\u001b[49m\u001b[43m \u001b[49m\u001b[38;5;241;43m*\u001b[39;49m\u001b[38;5;241;43m*\u001b[39;49m\u001b[38;5;28;43mself\u001b[39;49m\u001b[38;5;241;43m.\u001b[39;49m\u001b[43mkwargs\u001b[49m\u001b[43m)\u001b[49m\n\u001b[1;32m    625\u001b[0m     \u001b[38;5;28;01mexcept\u001b[39;00m:  \u001b[38;5;66;03m# pragma: no cover\u001b[39;00m\n\u001b[1;32m    626\u001b[0m         \u001b[38;5;28;01mimport\u001b[39;00m \u001b[38;5;21;01mtraceback\u001b[39;00m\n",
      "Input \u001b[0;32mIn [31]\u001b[0m, in \u001b[0;36mlnprob\u001b[0;34m(pars, dataset, verb)\u001b[0m\n\u001b[1;32m     52\u001b[0m lnprob_priors \u001b[38;5;241m=\u001b[39m lnprior(dataset)\n\u001b[1;32m     54\u001b[0m \u001b[38;5;66;03m# dataset.likelihood returns Cash statistics values\u001b[39;00m\n\u001b[1;32m     55\u001b[0m \u001b[38;5;66;03m# emcee will maximisise the LogLikelihood so we need -dataset.likelihood\u001b[39;00m\n\u001b[0;32m---> 56\u001b[0m total_lnprob \u001b[38;5;241m=\u001b[39m \u001b[38;5;241m-\u001b[39m\u001b[43mdataset\u001b[49m\u001b[38;5;241;43m.\u001b[39;49m\u001b[43mlikelihood\u001b[49m() \u001b[38;5;241m+\u001b[39m lnprob_priors\n\u001b[1;32m     58\u001b[0m \u001b[38;5;28;01mif\u001b[39;00m verb:\n\u001b[1;32m     59\u001b[0m     \u001b[38;5;28mprint\u001b[39m(\u001b[38;5;124m\"\u001b[39m\u001b[38;5;124mParameters are:\u001b[39m\u001b[38;5;124m\"\u001b[39m, pars)\n",
      "\u001b[0;31mAttributeError\u001b[0m: 'MapDataset' object has no attribute 'likelihood'"
     ]
    }
   ],
   "source": [
    "%%time\n",
    "# Now let's define a function to init parameters and run the MCMC with emcee\n",
    "# Depending on your number of walkers, Nrun and dimensionality, this can take a while (> minutes)\n",
    "sampler = run_mcmc(dataset, nwalkers=6, nrun=150)  # to speedup the notebook\n",
    "# sampler=run_mcmc(dataset,nwalkers=12,nrun=1000) # more accurate contours"
   ]
  },
  {
   "cell_type": "markdown",
   "metadata": {},
   "source": [
    "## Plot the results\n",
    "\n",
    "The MCMC will return a sampler object containing the trace of all walkers.<br>\n",
    "The most important part is the chain attribute which is an array of shape:<br>\n",
    "_(nwalkers, nrun, nfreeparam)_\n",
    "\n",
    "The chain is then used to plot the trace of the walkers and estimate the burnin period (the time for the walkers to reach a stationary stage)."
   ]
  },
  {
   "cell_type": "code",
   "execution_count": null,
   "metadata": {
    "execution": {
     "iopub.execute_input": "2021-01-29T12:57:57.859509Z",
     "iopub.status.busy": "2021-01-29T12:57:57.854039Z",
     "iopub.status.idle": "2021-01-29T12:57:58.120308Z",
     "shell.execute_reply": "2021-01-29T12:57:58.119483Z"
    },
    "scrolled": true
   },
   "outputs": [],
   "source": [
    "plot_trace(sampler, dataset)"
   ]
  },
  {
   "cell_type": "code",
   "execution_count": null,
   "metadata": {
    "execution": {
     "iopub.execute_input": "2021-01-29T12:57:58.129702Z",
     "iopub.status.busy": "2021-01-29T12:57:58.123692Z",
     "iopub.status.idle": "2021-01-29T12:57:58.939935Z",
     "shell.execute_reply": "2021-01-29T12:57:58.939479Z"
    },
    "tags": [
     "nbsphinx-thumbnail"
    ]
   },
   "outputs": [],
   "source": [
    "plot_corner(sampler, dataset, nburn=50)"
   ]
  },
  {
   "cell_type": "markdown",
   "metadata": {},
   "source": [
    "## Plot the model dispersion\n",
    "\n",
    "Using the samples from the chain after the burn period, we can plot the different models compared to the truth model. To do this we need to the spectral models for each parameter state in the sample."
   ]
  },
  {
   "cell_type": "code",
   "execution_count": null,
   "metadata": {
    "execution": {
     "iopub.execute_input": "2021-01-29T12:57:58.957354Z",
     "iopub.status.busy": "2021-01-29T12:57:58.955789Z",
     "iopub.status.idle": "2021-01-29T12:58:01.862792Z",
     "shell.execute_reply": "2021-01-29T12:58:01.862261Z"
    }
   },
   "outputs": [],
   "source": [
    "emin, emax = [0.1, 100] * u.TeV\n",
    "nburn = 50\n",
    "\n",
    "fig, ax = plt.subplots(1, 1, figsize=(12, 6))\n",
    "\n",
    "for nwalk in range(0, 6):\n",
    "    for n in range(nburn, nburn + 100):\n",
    "        pars = sampler.chain[nwalk, n, :]\n",
    "\n",
    "        # set model parameters\n",
    "        par_to_model(dataset, pars)\n",
    "        spectral_model = dataset.models[\"source\"].spectral_model\n",
    "\n",
    "        spectral_model.plot(\n",
    "            energy_range=(emin, emax),\n",
    "            ax=ax,\n",
    "            energy_power=2,\n",
    "            alpha=0.02,\n",
    "            color=\"grey\",\n",
    "        )\n",
    "\n",
    "\n",
    "sky_model_simu.spectral_model.plot(\n",
    "    energy_range=(emin, emax), energy_power=2, ax=ax, color=\"red\"\n",
    ");"
   ]
  },
  {
   "cell_type": "markdown",
   "metadata": {},
   "source": [
    "## Fun Zone\n",
    "\n",
    "Now that you have the sampler chain, you have in your hands the entire history of each walkers in the N-Dimensional parameter space. <br>\n",
    "You can for example trace the steps of each walker in any parameter space."
   ]
  },
  {
   "cell_type": "code",
   "execution_count": null,
   "metadata": {
    "execution": {
     "iopub.execute_input": "2021-01-29T12:58:01.885897Z",
     "iopub.status.busy": "2021-01-29T12:58:01.884309Z",
     "iopub.status.idle": "2021-01-29T12:58:02.007733Z",
     "shell.execute_reply": "2021-01-29T12:58:02.007227Z"
    }
   },
   "outputs": [],
   "source": [
    "# Here we plot the trace of one walker in a given parameter space\n",
    "parx, pary = 0, 1\n",
    "\n",
    "plt.plot(sampler.chain[0, :, parx], sampler.chain[0, :, pary], \"ko\", ms=1)\n",
    "plt.plot(\n",
    "    sampler.chain[0, :, parx],\n",
    "    sampler.chain[0, :, pary],\n",
    "    ls=\":\",\n",
    "    color=\"grey\",\n",
    "    alpha=0.5,\n",
    ")\n",
    "\n",
    "plt.xlabel(\"Index\")\n",
    "plt.ylabel(\"Amplitude\");"
   ]
  },
  {
   "cell_type": "markdown",
   "metadata": {},
   "source": [
    "## PeVatrons in CTA ?\n",
    "\n",
    "Now it's your turn to play with this MCMC notebook. For example to test the CTA performance to measure a cutoff at very high energies (100 TeV ?).\n",
    "\n",
    "After defining your Skymodel it can be as simple as this :"
   ]
  },
  {
   "cell_type": "code",
   "execution_count": null,
   "metadata": {
    "execution": {
     "iopub.execute_input": "2021-01-29T12:58:02.011458Z",
     "iopub.status.busy": "2021-01-29T12:58:02.010979Z",
     "iopub.status.idle": "2021-01-29T12:58:02.014278Z",
     "shell.execute_reply": "2021-01-29T12:58:02.013802Z"
    }
   },
   "outputs": [],
   "source": [
    "# dataset = simulate_dataset(model, geom, pointing, irfs)\n",
    "# sampler = run_mcmc(dataset)\n",
    "# plot_trace(sampler, dataset)\n",
    "# plot_corner(sampler, dataset, nburn=200)"
   ]
  }
 ],
 "metadata": {
  "kernelspec": {
   "display_name": "Python 3 (ipykernel)",
   "language": "python",
   "name": "python3"
  },
  "language_info": {
   "codemirror_mode": {
    "name": "ipython",
    "version": 3
   },
   "file_extension": ".py",
   "mimetype": "text/x-python",
   "name": "python",
   "nbconvert_exporter": "python",
   "pygments_lexer": "ipython3",
   "version": "3.9.16"
  }
 },
 "nbformat": 4,
 "nbformat_minor": 4
}
